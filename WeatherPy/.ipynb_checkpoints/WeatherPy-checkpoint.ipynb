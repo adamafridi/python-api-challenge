{
 "cells": [
  {
   "cell_type": "markdown",
   "metadata": {},
   "source": [
    "# WeatherPy\n",
    "----\n",
    "\n",
    "#### Note\n",
    "* Instructions have been included for each segment. You do not have to follow them exactly, but they are included to help you think through the steps."
   ]
  },
  {
   "cell_type": "code",
   "execution_count": 1,
   "metadata": {
    "scrolled": true
   },
   "outputs": [],
   "source": [
    "# Dependencies and Setup\n",
    "import matplotlib.pyplot as plt\n",
    "import pandas as pd\n",
    "import numpy as np\n",
    "import requests\n",
    "import time\n",
    "from scipy.stats import linregress\n",
    "\n",
    "# Import API key\n",
    "from api_keys import weather_api_key\n",
    "\n",
    "# Incorporated citipy to determine city based on latitude and longitude\n",
    "from citipy import citipy\n",
    "\n",
    "# Output File (CSV)\n",
    "output_data_file = \"output_data/cities.csv\"\n",
    "\n",
    "# Range of latitudes and longitudes\n",
    "lat_range = (-90, 90)\n",
    "lng_range = (-180, 180)"
   ]
  },
  {
   "cell_type": "markdown",
   "metadata": {},
   "source": [
    "## Generate Cities List"
   ]
  },
  {
   "cell_type": "code",
   "execution_count": 2,
   "metadata": {},
   "outputs": [
    {
     "data": {
      "text/plain": [
       "606"
      ]
     },
     "execution_count": 2,
     "metadata": {},
     "output_type": "execute_result"
    }
   ],
   "source": [
    "# List for holding lat_lngs and cities\n",
    "lat_lngs = []\n",
    "cities = []\n",
    "\n",
    "# Create a set of random lat and lng combinations\n",
    "lats = np.random.uniform(low=-90.000, high=90.000, size=1500)\n",
    "lngs = np.random.uniform(low=-180.000, high=180.000, size=1500)\n",
    "lat_lngs = zip(lats, lngs)\n",
    "\n",
    "# Identify nearest city for each lat, lng combination\n",
    "for lat_lng in lat_lngs:\n",
    "    city = citipy.nearest_city(lat_lng[0], lat_lng[1]).city_name\n",
    "    \n",
    "    # If the city is unique, then add it to a our cities list\n",
    "    if city not in cities:\n",
    "        cities.append(city)\n",
    "\n",
    "# Print the city count to confirm sufficient count\n",
    "len(cities)"
   ]
  },
  {
   "cell_type": "markdown",
   "metadata": {},
   "source": [
    "### Perform API Calls\n",
    "* Perform a weather check on each city using a series of successive API calls.\n",
    "* Include a print log of each city as it'sbeing processed (with the city number and city name).\n"
   ]
  },
  {
   "cell_type": "code",
   "execution_count": 3,
   "metadata": {},
   "outputs": [
    {
     "name": "stdout",
     "output_type": "stream",
     "text": [
      "Starting API Calls\n",
      "Adding City: puerto ayora\n",
      "Adding City: bam\n",
      "Adding City: busselton\n",
      "Adding City: castro\n",
      "Adding City: rikitea\n",
      "Adding City: thompson\n",
      "Adding City: kaduqli\n",
      "Adding City: saskylakh\n",
      "Adding City: sao felix do xingu\n",
      "Adding City: jamestown\n",
      "Adding City: tuatapere\n",
      "Adding City: niquero\n",
      "Adding City: albany\n",
      "City (attawapiskat) Not Found...\n",
      "Adding City: salta\n",
      "Adding City: malanje\n",
      "Adding City: camopi\n",
      "City (yanan) Not Found...\n",
      "Adding City: ushuaia\n",
      "Adding City: port elizabeth\n",
      "Adding City: cabo san lucas\n",
      "City (sentyabrskiy) Not Found...\n",
      "Adding City: fortuna\n",
      "Adding City: vaini\n",
      "Adding City: tuktoyaktuk\n",
      "Adding City: minab\n",
      "Adding City: zapolyarnyy\n",
      "Adding City: coxim\n",
      "Adding City: punta arenas\n",
      "Adding City: lebu\n",
      "Adding City: provideniya\n",
      "Adding City: pinotepa nacional\n",
      "Adding City: butaritari\n",
      "Adding City: port-gentil\n",
      "Adding City: port alfred\n",
      "Adding City: nome\n",
      "City (amderma) Not Found...\n",
      "Adding City: udachnyy\n",
      "City (palabuhanratu) Not Found...\n",
      "Adding City: ust-maya\n",
      "Adding City: jiexiu\n",
      "Adding City: kenora\n",
      "Adding City: lagoa\n",
      "Adding City: bara\n",
      "Adding City: maniitsoq\n",
      "Adding City: bengkulu\n",
      "Adding City: altea\n",
      "City (illoqqortoormiut) Not Found...\n",
      "Adding City: petropavlovsk-kamchatskiy\n",
      "Adding City: north bend\n",
      "Adding City: zeya\n",
      "Adding City: te anau\n",
      "City (samusu) Not Found...\n",
      "Adding City: kang\n",
      "Adding City: kaitangata\n",
      "Adding City: bubaque\n",
      "Adding City: faanui\n",
      "Adding City: kodiak\n",
      "Adding City: kazachinskoye\n",
      "Adding City: nhulunbuy\n",
      "Adding City: varca\n",
      "Adding City: cape town\n",
      "Adding City: hilo\n",
      "City (mouzakion) Not Found...\n",
      "Adding City: abu zabad\n",
      "Adding City: norman wells\n",
      "Adding City: hermanus\n",
      "Adding City: khatanga\n",
      "Adding City: boa vista\n",
      "Adding City: isilkul\n",
      "Adding City: bereda\n",
      "Adding City: cidreira\n",
      "Adding City: baruun-urt\n",
      "Adding City: itarema\n",
      "Adding City: grindavik\n",
      "Adding City: qorveh\n",
      "Adding City: esso\n",
      "Adding City: coihaique\n",
      "Adding City: along\n",
      "Adding City: faya\n",
      "Adding City: hithadhoo\n",
      "Adding City: avarua\n",
      "Adding City: waingapu\n",
      "Adding City: mataura\n",
      "Adding City: airai\n",
      "Adding City: axim\n",
      "Adding City: ahualulco\n",
      "Adding City: sobolevo\n",
      "Adding City: lensk\n",
      "Adding City: bud\n",
      "Adding City: ternate\n",
      "Adding City: narsaq\n",
      "Adding City: grand baie\n",
      "Adding City: tutoia\n",
      "Adding City: riyadh\n",
      "Adding City: bac lieu\n",
      "Adding City: torbay\n",
      "Adding City: cartagena\n",
      "Adding City: muisne\n",
      "City (belushya guba) Not Found...\n",
      "Adding City: sumbe\n",
      "Adding City: chuy\n",
      "Adding City: hasaki\n",
      "Adding City: kapaa\n",
      "Adding City: samarkand\n",
      "Adding City: yumen\n",
      "Adding City: sahibganj\n",
      "Adding City: camacha\n",
      "City (grand river south east) Not Found...\n",
      "Adding City: katsuura\n",
      "Adding City: pervomayskiy\n",
      "Adding City: coquimbo\n",
      "Adding City: channel-port aux basques\n",
      "Adding City: san francisco\n",
      "Adding City: dikson\n",
      "Adding City: listvyanka\n",
      "Adding City: barrow\n",
      "Adding City: the valley\n",
      "Adding City: saint-francois\n",
      "Adding City: nikolskoye\n",
      "Adding City: raudeberg\n",
      "Adding City: samana\n",
      "Adding City: tiksi\n",
      "Adding City: nchelenge\n",
      "Adding City: kununurra\n",
      "Adding City: port antonio\n",
      "Adding City: litovko\n",
      "Adding City: ancud\n",
      "Adding City: bethanien\n",
      "City (mys shmidta) Not Found...\n",
      "Adding City: naron\n",
      "Adding City: port pirie\n",
      "Adding City: arkhara\n",
      "Adding City: manokwari\n",
      "Adding City: saldanha\n",
      "Adding City: deputatskiy\n",
      "Adding City: havoysund\n",
      "Adding City: suntar\n",
      "Adding City: mildura\n",
      "Adding City: hobart\n",
      "Adding City: concordia\n",
      "Adding City: harper\n",
      "Adding City: almeria\n",
      "Adding City: alofi\n",
      "Adding City: micoud\n",
      "Adding City: pemba\n",
      "Adding City: chokurdakh\n",
      "Adding City: camabatela\n",
      "Adding City: nautla\n",
      "City (urdzhar) Not Found...\n",
      "Adding City: qaanaaq\n",
      "Adding City: luanda\n",
      "Adding City: lata\n",
      "Adding City: djibo\n",
      "Adding City: baykit\n",
      "Adding City: walvis bay\n",
      "Adding City: ribeira grande\n",
      "Adding City: port huron\n",
      "City (nizhneyansk) Not Found...\n",
      "Adding City: waipawa\n",
      "Adding City: longyearbyen\n",
      "Adding City: hailar\n",
      "Adding City: nampula\n",
      "Adding City: saint george\n",
      "Adding City: veraval\n",
      "Adding City: valparaiso\n",
      "Adding City: rincon\n",
      "Adding City: arraial do cabo\n",
      "Adding City: maunabo\n",
      "Adding City: sapele\n",
      "Adding City: obo\n",
      "Adding City: garowe\n",
      "Adding City: skjervoy\n",
      "Adding City: batticaloa\n",
      "City (tumannyy) Not Found...\n",
      "Adding City: atuona\n",
      "Adding City: ladario\n",
      "Adding City: bintulu\n",
      "Adding City: sitka\n",
      "Adding City: maralal\n",
      "Adding City: bluff\n",
      "Adding City: yellowknife\n",
      "Adding City: kavieng\n",
      "Adding City: cherskiy\n",
      "Adding City: braine-le-comte\n",
      "Adding City: pindasan\n",
      "Adding City: new norfolk\n",
      "Adding City: mar del plata\n",
      "City (vaitupu) Not Found...\n",
      "City (ituni) Not Found...\n",
      "Adding City: necochea\n",
      "Adding City: sampang\n",
      "Adding City: bambous virieux\n",
      "Adding City: tasiilaq\n",
      "Adding City: komsomolskiy\n",
      "Adding City: rongcheng\n",
      "Adding City: tinskoy\n",
      "Adding City: saint-pierre\n",
      "Adding City: pa daet\n",
      "Adding City: kambove\n",
      "Adding City: french harbor\n",
      "Adding City: salalah\n",
      "Adding City: portland\n",
      "City (karakendzha) Not Found...\n",
      "City (warqla) Not Found...\n",
      "Adding City: hoquiam\n",
      "Adding City: bafq\n",
      "Adding City: upernavik\n",
      "Adding City: novouzensk\n",
      "Adding City: touros\n",
      "Adding City: cayenne\n",
      "Adding City: kailua\n",
      "Adding City: lucapa\n",
      "Adding City: jiayuguan\n",
      "Adding City: tigil\n",
      "Adding City: cururupu\n",
      "Adding City: mahebourg\n",
      "City (tsihombe) Not Found...\n",
      "Adding City: luderitz\n",
      "Adding City: lagos\n",
      "Adding City: isangel\n",
      "Adding City: guerrero negro\n",
      "Adding City: hobyo\n",
      "Adding City: bermeo\n",
      "Adding City: khorramshahr\n",
      "City (barentsburg) Not Found...\n",
      "Adding City: bonavista\n",
      "Adding City: carauari\n",
      "Adding City: yulara\n",
      "Adding City: derzhavinsk\n",
      "Adding City: homer\n",
      "Adding City: buraydah\n",
      "Adding City: kasongo-lunda\n",
      "Adding City: malakal\n",
      "Adding City: la libertad\n",
      "Adding City: east london\n",
      "Adding City: hollins\n",
      "Adding City: omboue\n",
      "Adding City: carnarvon\n",
      "City (naftah) Not Found...\n",
      "Adding City: namibe\n",
      "Adding City: bredasdorp\n",
      "Adding City: pemangkat\n",
      "Adding City: kichera\n",
      "Adding City: ponta do sol\n",
      "Adding City: naze\n",
      "Adding City: codrington\n",
      "Adding City: sao miguel do araguaia\n",
      "Adding City: port lincoln\n",
      "City (taolanaro) Not Found...\n",
      "Adding City: sinnamary\n",
      "Adding City: vung tau\n",
      "Adding City: caravelas\n",
      "Adding City: comodoro rivadavia\n",
      "Adding City: krasnoborsk\n",
      "Adding City: pangnirtung\n",
      "Adding City: clyde river\n",
      "Adding City: marawi\n",
      "Adding City: souillac\n",
      "Adding City: sao joao da barra\n",
      "Adding City: la baule-escoublac\n",
      "Adding City: avera\n",
      "Adding City: benguela\n",
      "Adding City: hopkinsville\n",
      "Adding City: antofagasta\n",
      "Adding City: fort nelson\n",
      "Adding City: normandin\n",
      "Adding City: sao filipe\n",
      "Adding City: pevek\n",
      "Adding City: mouila\n",
      "Adding City: namatanai\n",
      "Adding City: karratha\n",
      "Adding City: kunming\n",
      "Adding City: bethel\n",
      "Adding City: kennett\n",
      "Adding City: salvador\n",
      "Adding City: husavik\n",
      "Adding City: tabuk\n",
      "Adding City: klaksvik\n",
      "Adding City: rorvik\n",
      "City (marcona) Not Found...\n",
      "Adding City: peringat\n",
      "Adding City: port hedland\n",
      "City (barbar) Not Found...\n",
      "Adding City: sangar\n",
      "Adding City: nalvo\n",
      "Adding City: vardo\n",
      "City (tuysarkan) Not Found...\n",
      "Adding City: san benito\n",
      "Adding City: kutum\n",
      "Adding City: christchurch\n",
      "Adding City: gympie\n",
      "Adding City: ranfurly\n",
      "Adding City: ambilobe\n",
      "Adding City: chilca\n",
      "Adding City: kahului\n",
      "Adding City: neokhorion\n",
      "City (phan rang) Not Found...\n",
      "Adding City: evensk\n",
      "Adding City: poum\n",
      "Adding City: houma\n",
      "Adding City: arrah\n",
      "Adding City: kargasok\n",
      "Adding City: boshnyakovo\n",
      "Adding City: lavrentiya\n",
      "Adding City: de aar\n",
      "Adding City: ballina\n",
      "Adding City: hukuntsi\n",
      "Adding City: ust-nera\n",
      "City (naugarzan) Not Found...\n",
      "Adding City: qeshm\n",
      "Adding City: skibbereen\n",
      "Adding City: ust-kuyga\n",
      "Adding City: nakskov\n",
      "Adding City: quzhou\n",
      "City (solsvik) Not Found...\n",
      "Adding City: san patricio\n",
      "Adding City: kamiiso\n",
      "Adding City: puerto carreno\n",
      "Adding City: wageningen\n",
      "Adding City: poquoson\n",
      "Adding City: ape\n",
      "Adding City: maxixe\n",
      "Adding City: okha\n",
      "City (takob) Not Found...\n",
      "Adding City: zhigansk\n",
      "Adding City: zamora\n",
      "Adding City: constitucion\n",
      "Adding City: hualmay\n",
      "Adding City: lahaina\n",
      "Adding City: chabahar\n",
      "Adding City: wukari\n",
      "Adding City: khovu-aksy\n",
      "Adding City: krasnoselkup\n",
      "Adding City: kudahuvadhoo\n",
      "Adding City: ayan\n",
      "Adding City: xining\n",
      "Adding City: georgetown\n",
      "Adding City: irati\n",
      "Adding City: reichenau\n",
      "Adding City: bontang\n",
      "Adding City: changping\n",
      "Adding City: vestmannaeyjar\n",
      "Adding City: mpika\n",
      "Adding City: severo-kurilsk\n",
      "Adding City: lahat\n",
      "Adding City: olafsvik\n",
      "City (halalo) Not Found...\n",
      "Adding City: tripoli\n",
      "Adding City: zhezkazgan\n",
      "Adding City: lanivtsi\n",
      "Adding City: lima\n",
      "Adding City: nishihara\n",
      "Adding City: esperance\n",
      "Adding City: miles city\n",
      "City (fort saint john) Not Found...\n",
      "Adding City: mount gambier\n",
      "Adding City: curaca\n",
      "Adding City: miraflores\n"
     ]
    },
    {
     "name": "stdout",
     "output_type": "stream",
     "text": [
      "Adding City: abu kamal\n",
      "City (saleaula) Not Found...\n",
      "Adding City: ouesso\n",
      "City (ye) Not Found...\n",
      "Adding City: santiago\n",
      "Adding City: pochutla\n",
      "Adding City: mbandaka\n",
      "Adding City: bucyrus\n",
      "Adding City: perth\n",
      "Adding City: aquiraz\n",
      "Adding City: ixtapa\n",
      "Adding City: praia da vitoria\n",
      "Adding City: san quintin\n",
      "Adding City: usak\n",
      "Adding City: havre-saint-pierre\n",
      "Adding City: juneau\n",
      "Adding City: belfast\n",
      "Adding City: gunjur\n",
      "Adding City: sola\n",
      "Adding City: ostrovnoy\n",
      "Adding City: ilulissat\n",
      "Adding City: college\n",
      "Adding City: muswellbrook\n",
      "Adding City: ilhabela\n",
      "Adding City: jalu\n",
      "Adding City: taoudenni\n",
      "Adding City: saint-philippe\n",
      "Adding City: isla mujeres\n",
      "City (haibowan) Not Found...\n",
      "Adding City: nanortalik\n",
      "Adding City: sao jose da coroa grande\n",
      "Adding City: nova olimpia\n",
      "Adding City: nago\n",
      "Adding City: ponta delgada\n",
      "Adding City: half moon bay\n",
      "Adding City: victoria\n",
      "Adding City: bulungu\n",
      "Adding City: quirinopolis\n",
      "Adding City: cardston\n",
      "Adding City: high level\n",
      "Adding City: hermon\n",
      "Adding City: kharan\n",
      "Adding City: marmora\n",
      "City (tubruq) Not Found...\n",
      "Adding City: parvatipuram\n",
      "Adding City: tetela del volcan\n",
      "Adding City: general pico\n",
      "Adding City: nieuw amsterdam\n",
      "Adding City: eureka\n",
      "Adding City: ewa beach\n",
      "Adding City: linqing\n",
      "Adding City: port hawkesbury\n",
      "Adding City: leshukonskoye\n",
      "Adding City: rodino\n",
      "Adding City: ahipara\n",
      "City (agsu) Not Found...\n",
      "Adding City: noumea\n",
      "Adding City: qui nhon\n",
      "City (artyk) Not Found...\n",
      "Adding City: peniche\n",
      "Adding City: jizan\n",
      "Adding City: iskateley\n",
      "Adding City: quelimane\n",
      "Adding City: asau\n",
      "Adding City: popondetta\n",
      "Adding City: port blair\n",
      "Adding City: yar-sale\n",
      "Adding City: vostok\n",
      "Adding City: orlik\n",
      "Adding City: fare\n",
      "Adding City: roald\n",
      "Adding City: keningau\n",
      "Adding City: tura\n",
      "Adding City: phuket\n",
      "City (hihifo) Not Found...\n",
      "Adding City: katangli\n",
      "Adding City: san cristobal\n",
      "Adding City: beringovskiy\n",
      "Adding City: maceio\n",
      "City (theologos) Not Found...\n",
      "Adding City: pangai\n",
      "Adding City: bathsheba\n",
      "Adding City: general roca\n",
      "Adding City: bobrov\n",
      "Adding City: plaster rock\n",
      "Adding City: discovery bay\n",
      "Adding City: xushan\n",
      "Adding City: leningradskiy\n",
      "Adding City: ca mau\n",
      "Adding City: troitsko-pechorsk\n",
      "Adding City: anadyr\n",
      "Adding City: beloha\n",
      "Adding City: fort myers beach\n",
      "City (umzimvubu) Not Found...\n",
      "Adding City: oistins\n",
      "Adding City: jonuta\n",
      "Adding City: saint-louis\n",
      "City (falealupo) Not Found...\n",
      "Adding City: olot\n",
      "Adding City: sinnai\n",
      "Adding City: agirish\n",
      "Adding City: hofn\n",
      "Adding City: stupava\n",
      "Adding City: kamenka\n",
      "Adding City: nuevo progreso\n",
      "Adding City: pacific grove\n",
      "Adding City: karatuzskoye\n",
      "Adding City: brigham city\n",
      "Adding City: bilibino\n",
      "Adding City: vilhena\n",
      "Adding City: vanavara\n",
      "Adding City: palivere\n",
      "Adding City: kentau\n",
      "Adding City: tucuma\n",
      "Adding City: shahpura\n",
      "Adding City: monrovia\n",
      "Adding City: mednogorskiy\n",
      "Adding City: aswan\n",
      "Adding City: berdigestyakh\n",
      "Adding City: najran\n",
      "Adding City: saint-joseph\n",
      "Adding City: omsukchan\n",
      "Adding City: hibbing\n",
      "Adding City: tessalit\n",
      "Adding City: iqaluit\n",
      "Adding City: nioro\n",
      "Adding City: motygino\n",
      "Adding City: novoagansk\n",
      "Adding City: zyryanka\n",
      "Adding City: hit\n",
      "Adding City: palauig\n",
      "Adding City: shenjiamen\n",
      "Adding City: mount isa\n",
      "Adding City: pabrade\n",
      "Adding City: bowen\n",
      "Adding City: elizabethton\n",
      "Adding City: qaqortoq\n",
      "Adding City: brae\n",
      "Adding City: musafirkhana\n",
      "Adding City: pozo colorado\n",
      "Adding City: jaru\n",
      "Adding City: tyssedal\n",
      "Adding City: dingle\n",
      "Adding City: tommot\n",
      "Adding City: cherdyn\n",
      "Adding City: liusha\n",
      "Adding City: bahia blanca\n",
      "Adding City: loandjili\n",
      "Adding City: flinders\n",
      "Adding City: dukat\n",
      "Adding City: lodwar\n",
      "Adding City: bourail\n",
      "Adding City: chardara\n",
      "City (ngukurr) Not Found...\n",
      "Adding City: irpa irpa\n",
      "Adding City: mayskiy\n",
      "Adding City: fort frances\n",
      "Adding City: voznesenye\n",
      "Adding City: makinsk\n",
      "Adding City: batagay\n",
      "Adding City: lucea\n",
      "Adding City: lusambo\n",
      "Adding City: shumyachi\n",
      "Adding City: colares\n",
      "Adding City: grajau\n",
      "Adding City: andrews\n",
      "Adding City: killybegs\n",
      "Adding City: yurla\n",
      "Adding City: chitral\n",
      "Adding City: zarubino\n",
      "Adding City: praia\n",
      "Adding City: muros\n",
      "Adding City: apricena\n",
      "Adding City: kilindoni\n",
      "Adding City: tilichiki\n",
      "Adding City: batemans bay\n",
      "Adding City: gorbatovka\n",
      "Adding City: san fernando\n",
      "Adding City: torbat-e jam\n",
      "Adding City: lompoc\n",
      "Adding City: ottawa\n",
      "Adding City: boralday\n",
      "Adding City: balkanabat\n",
      "Adding City: magdalena\n",
      "Adding City: kaoma\n",
      "Adding City: khasan\n",
      "Adding City: badarganj\n",
      "Adding City: aklavik\n",
      "Adding City: tanout\n",
      "Adding City: alterosa\n",
      "Adding City: kjollefjord\n",
      "Adding City: siyabuswa\n",
      "Adding City: san joaquin\n",
      "Adding City: mendoza\n",
      "Adding City: gewane\n",
      "Adding City: vila\n",
      "Adding City: seguela\n",
      "Adding City: jega\n",
      "Adding City: trinidad\n",
      "Adding City: bambanglipuro\n",
      "Adding City: vuktyl\n",
      "Adding City: astana\n",
      "Adding City: auki\n",
      "Adding City: otavi\n",
      "Adding City: balasheyka\n",
      "Adding City: fairbanks\n",
      "Adding City: carutapera\n",
      "Adding City: joshimath\n",
      "Adding City: cap malheureux\n",
      "Adding City: moussoro\n",
      "Adding City: bloomington\n",
      "Adding City: las cruces\n",
      "Adding City: melfi\n",
      "Adding City: jijiga\n",
      "Adding City: kedrovyy\n",
      "Adding City: berlevag\n",
      "Adding City: safita\n",
      "Adding City: amontada\n",
      "Adding City: santa barbara\n",
      "Adding City: phek\n",
      "Adding City: dongsheng\n",
      "Adding City: nichinan\n",
      "City (nguiu) Not Found...\n",
      "Adding City: lincoln\n",
      "Adding City: okhotsk\n",
      "Adding City: puri\n",
      "Adding City: falmouth\n",
      "City (burica) Not Found...\n",
      "Adding City: bloemfontein\n",
      "Adding City: sur\n",
      "Adding City: sorkjosen\n",
      "Adding City: boyolangu\n",
      "Adding City: wilkie\n",
      "Adding City: luau\n",
      "Adding City: zaranj\n",
      "Adding City: adrar\n",
      "Adding City: balabac\n",
      "Adding City: vieques\n",
      "City (grand centre) Not Found...\n",
      "Adding City: trat\n",
      "Adding City: hornepayne\n",
      "Adding City: ugoofaaru\n",
      "Adding City: teguldet\n",
      "Adding City: haines junction\n",
      "Adding City: kaeo\n",
      "Adding City: sembakung\n",
      "Adding City: san luis\n",
      "API Calls Complete\n"
     ]
    }
   ],
   "source": [
    "url = \"http://api.openweathermap.org/data/2.5/weather?units=Imperial&APPID=\"+weather_api_key\n",
    "city_data = []\n",
    "\n",
    "print(\"Starting API Calls\")\n",
    "\n",
    "for i,city in enumerate(cities):\n",
    "    \n",
    "    city_url = url + \"&q=\"+ city\n",
    "    try:\n",
    "        city_weather = requests.get(city_url).json()\n",
    "        city_lat = city_weather[\"coord\"][\"lat\"]\n",
    "        city_lon = city_weather[\"coord\"][\"lon\"]\n",
    "        city_wind = city_weather[\"wind\"][\"speed\"]\n",
    "        city_cloud = city_weather[\"clouds\"][\"all\"]\n",
    "        city_humidity = city_weather[\"main\"][\"humidity\"]\n",
    "        city_temp = city_weather[\"main\"][\"temp\"]\n",
    "        city_country = city_weather[\"sys\"][\"country\"]\n",
    "        city_data.append({\"City\":city,\n",
    "                         \"Lat\": city_lat,\n",
    "                          \"Lon\": city_lon,\n",
    "                         \"Wind Speed\":city_wind,\n",
    "                         \"Cloudiness\":city_cloud,\n",
    "                         \"Humidity\":city_humidity,\n",
    "                          \"Country\":city_country,\n",
    "                         \"Temperature\":city_temp})\n",
    "                            \n",
    "        print(\"Adding City: \"+city)\n",
    "    except:\n",
    "        print(\"City (\"+city+\") Not Found...\")\n",
    "        pass\n",
    "    \n",
    "print(\"API Calls Complete\")"
   ]
  },
  {
   "cell_type": "markdown",
   "metadata": {},
   "source": [
    "### Convert Raw Data to DataFrame\n",
    "* Export the city data into a .csv.\n",
    "* Display the DataFrame"
   ]
  },
  {
   "cell_type": "code",
   "execution_count": 4,
   "metadata": {},
   "outputs": [
    {
     "data": {
      "text/plain": [
       "City           561\n",
       "Lat            561\n",
       "Lon            561\n",
       "Wind Speed     561\n",
       "Cloudiness     561\n",
       "Humidity       561\n",
       "Country        561\n",
       "Temperature    561\n",
       "dtype: int64"
      ]
     },
     "execution_count": 4,
     "metadata": {},
     "output_type": "execute_result"
    }
   ],
   "source": [
    "weather_data = pd.DataFrame(city_data)\n",
    "weather_data.count()"
   ]
  },
  {
   "cell_type": "markdown",
   "metadata": {},
   "source": [
    "### Plotting the Data\n",
    "* Use proper labeling of the plots using plot titles (including date of analysis) and axes labels.\n",
    "* Save the plotted figures as .pngs."
   ]
  },
  {
   "cell_type": "markdown",
   "metadata": {},
   "source": [
    "#### Latitude vs. Temperature Plot"
   ]
  },
  {
   "cell_type": "code",
   "execution_count": 5,
   "metadata": {},
   "outputs": [
    {
     "data": {
      "image/png": "[encoded data removed]",
      "text/plain": [
       "<Figure size 432x288 with 1 Axes>"
      ]
     },
     "metadata": {
      "needs_background": "light"
     },
     "output_type": "display_data"
    }
   ],
   "source": [
    "# Create a Scatter Plot for temperature vs latitude\n",
    "x_values = weather_data['Lat']\n",
    "y_values = weather_data['Temperature']\n",
    "plt.scatter(x_values,y_values)\n",
    "plt.xlabel('Latitude')\n",
    "plt.ylabel('Temperature')\n",
    "plt.show()"
   ]
  },
  {
   "cell_type": "markdown",
   "metadata": {},
   "source": [
    "#### Latitude vs. Humidity Plot"
   ]
  },
  {
   "cell_type": "code",
   "execution_count": 6,
   "metadata": {},
   "outputs": [
    {
     "data": {
      "image/png": "[encoded data removed]",
      "text/plain": [
       "<Figure size 432x288 with 1 Axes>"
      ]
     },
     "metadata": {
      "needs_background": "light"
     },
     "output_type": "display_data"
    }
   ],
   "source": [
    "# Create a Scatter Plot for humidity vs latitude\n",
    "x_values = weather_data['Lat']\n",
    "y_values = weather_data['Humidity']\n",
    "plt.scatter(x_values,y_values)\n",
    "plt.xlabel('Latitude')\n",
    "plt.ylabel('Humidity')\n",
    "plt.show()"
   ]
  },
  {
   "cell_type": "markdown",
   "metadata": {},
   "source": [
    "#### Latitude vs. Cloudiness Plot"
   ]
  },
  {
   "cell_type": "code",
   "execution_count": 7,
   "metadata": {},
   "outputs": [
    {
     "data": {
      "image/png": "[encoded data removed]",
      "text/plain": [
       "<Figure size 432x288 with 1 Axes>"
      ]
     },
     "metadata": {
      "needs_background": "light"
     },
     "output_type": "display_data"
    }
   ],
   "source": [
    "# Create a Scatter Plot for cloudiness vs latitude\n",
    "x_values = weather_data['Lat']\n",
    "y_values = weather_data['Cloudiness']\n",
    "plt.scatter(x_values,y_values)\n",
    "plt.xlabel('Latitude')\n",
    "plt.ylabel('Cloudiness')\n",
    "plt.show()"
   ]
  },
  {
   "cell_type": "markdown",
   "metadata": {},
   "source": [
    "#### Latitude vs. Wind Speed Plot"
   ]
  },
  {
   "cell_type": "code",
   "execution_count": 8,
   "metadata": {},
   "outputs": [
    {
     "data": {
      "image/png": "[encoded data removed]",
      "text/plain": [
       "<Figure size 432x288 with 1 Axes>"
      ]
     },
     "metadata": {
      "needs_background": "light"
     },
     "output_type": "display_data"
    }
   ],
   "source": [
    "# Create a Scatter Plot for wind speed vs latitude\n",
    "x_values = weather_data['Lat']\n",
    "y_values = weather_data['Humidity']\n",
    "plt.scatter(x_values,y_values)\n",
    "plt.xlabel('Latitude')\n",
    "plt.ylabel('Wind Speed')\n",
    "plt.show()"
   ]
  },
  {
   "cell_type": "markdown",
   "metadata": {},
   "source": [
    "## Linear Regression"
   ]
  },
  {
   "cell_type": "code",
   "execution_count": 9,
   "metadata": {},
   "outputs": [
    {
     "data": {
      "text/html": [
       "<div>\n",
       "<style scoped>\n",
       "    .dataframe tbody tr th:only-of-type {\n",
       "        vertical-align: middle;\n",
       "    }\n",
       "\n",
       "    .dataframe tbody tr th {\n",
       "        vertical-align: top;\n",
       "    }\n",
       "\n",
       "    .dataframe thead th {\n",
       "        text-align: right;\n",
       "    }\n",
       "</style>\n",
       "<table border=\"1\" class=\"dataframe\">\n",
       "  <thead>\n",
       "    <tr style=\"text-align: right;\">\n",
       "      <th></th>\n",
       "      <th>City</th>\n",
       "      <th>Lat</th>\n",
       "      <th>Lon</th>\n",
       "      <th>Wind Speed</th>\n",
       "      <th>Cloudiness</th>\n",
       "      <th>Humidity</th>\n",
       "      <th>Country</th>\n",
       "      <th>Temperature</th>\n",
       "    </tr>\n",
       "  </thead>\n",
       "  <tbody>\n",
       "    <tr>\n",
       "      <td>0</td>\n",
       "      <td>puerto ayora</td>\n",
       "      <td>-0.74</td>\n",
       "      <td>-90.35</td>\n",
       "      <td>1.01</td>\n",
       "      <td>53</td>\n",
       "      <td>87</td>\n",
       "      <td>EC</td>\n",
       "      <td>79.00</td>\n",
       "    </tr>\n",
       "    <tr>\n",
       "      <td>1</td>\n",
       "      <td>bam</td>\n",
       "      <td>29.11</td>\n",
       "      <td>58.36</td>\n",
       "      <td>7.31</td>\n",
       "      <td>100</td>\n",
       "      <td>25</td>\n",
       "      <td>IR</td>\n",
       "      <td>73.81</td>\n",
       "    </tr>\n",
       "    <tr>\n",
       "      <td>2</td>\n",
       "      <td>busselton</td>\n",
       "      <td>-33.65</td>\n",
       "      <td>115.33</td>\n",
       "      <td>9.98</td>\n",
       "      <td>75</td>\n",
       "      <td>37</td>\n",
       "      <td>AU</td>\n",
       "      <td>78.48</td>\n",
       "    </tr>\n",
       "    <tr>\n",
       "      <td>3</td>\n",
       "      <td>castro</td>\n",
       "      <td>-24.79</td>\n",
       "      <td>-50.01</td>\n",
       "      <td>5.53</td>\n",
       "      <td>32</td>\n",
       "      <td>73</td>\n",
       "      <td>BR</td>\n",
       "      <td>55.18</td>\n",
       "    </tr>\n",
       "    <tr>\n",
       "      <td>4</td>\n",
       "      <td>rikitea</td>\n",
       "      <td>-23.12</td>\n",
       "      <td>-134.97</td>\n",
       "      <td>7.20</td>\n",
       "      <td>91</td>\n",
       "      <td>77</td>\n",
       "      <td>PF</td>\n",
       "      <td>78.55</td>\n",
       "    </tr>\n",
       "    <tr>\n",
       "      <td>...</td>\n",
       "      <td>...</td>\n",
       "      <td>...</td>\n",
       "      <td>...</td>\n",
       "      <td>...</td>\n",
       "      <td>...</td>\n",
       "      <td>...</td>\n",
       "      <td>...</td>\n",
       "      <td>...</td>\n",
       "    </tr>\n",
       "    <tr>\n",
       "      <td>556</td>\n",
       "      <td>teguldet</td>\n",
       "      <td>57.31</td>\n",
       "      <td>88.17</td>\n",
       "      <td>5.79</td>\n",
       "      <td>0</td>\n",
       "      <td>63</td>\n",
       "      <td>RU</td>\n",
       "      <td>42.01</td>\n",
       "    </tr>\n",
       "    <tr>\n",
       "      <td>557</td>\n",
       "      <td>haines junction</td>\n",
       "      <td>60.75</td>\n",
       "      <td>-137.51</td>\n",
       "      <td>2.66</td>\n",
       "      <td>0</td>\n",
       "      <td>72</td>\n",
       "      <td>CA</td>\n",
       "      <td>30.22</td>\n",
       "    </tr>\n",
       "    <tr>\n",
       "      <td>558</td>\n",
       "      <td>kaeo</td>\n",
       "      <td>-35.10</td>\n",
       "      <td>173.78</td>\n",
       "      <td>14.00</td>\n",
       "      <td>79</td>\n",
       "      <td>90</td>\n",
       "      <td>NZ</td>\n",
       "      <td>66.00</td>\n",
       "    </tr>\n",
       "    <tr>\n",
       "      <td>559</td>\n",
       "      <td>sembakung</td>\n",
       "      <td>3.82</td>\n",
       "      <td>117.25</td>\n",
       "      <td>1.59</td>\n",
       "      <td>43</td>\n",
       "      <td>74</td>\n",
       "      <td>ID</td>\n",
       "      <td>85.23</td>\n",
       "    </tr>\n",
       "    <tr>\n",
       "      <td>560</td>\n",
       "      <td>san luis</td>\n",
       "      <td>-33.30</td>\n",
       "      <td>-66.34</td>\n",
       "      <td>5.06</td>\n",
       "      <td>98</td>\n",
       "      <td>47</td>\n",
       "      <td>AR</td>\n",
       "      <td>63.72</td>\n",
       "    </tr>\n",
       "  </tbody>\n",
       "</table>\n",
       "<p>561 rows × 8 columns</p>\n",
       "</div>"
      ],
      "text/plain": [
       "                City    Lat     Lon  Wind Speed  Cloudiness  Humidity Country  \\\n",
       "0       puerto ayora  -0.74  -90.35        1.01          53        87      EC   \n",
       "1                bam  29.11   58.36        7.31         100        25      IR   \n",
       "2          busselton -33.65  115.33        9.98          75        37      AU   \n",
       "3             castro -24.79  -50.01        5.53          32        73      BR   \n",
       "4            rikitea -23.12 -134.97        7.20          91        77      PF   \n",
       "..               ...    ...     ...         ...         ...       ...     ...   \n",
       "556         teguldet  57.31   88.17        5.79           0        63      RU   \n",
       "557  haines junction  60.75 -137.51        2.66           0        72      CA   \n",
       "558             kaeo -35.10  173.78       14.00          79        90      NZ   \n",
       "559        sembakung   3.82  117.25        1.59          43        74      ID   \n",
       "560         san luis -33.30  -66.34        5.06          98        47      AR   \n",
       "\n",
       "     Temperature  \n",
       "0          79.00  \n",
       "1          73.81  \n",
       "2          78.48  \n",
       "3          55.18  \n",
       "4          78.55  \n",
       "..           ...  \n",
       "556        42.01  \n",
       "557        30.22  \n",
       "558        66.00  \n",
       "559        85.23  \n",
       "560        63.72  \n",
       "\n",
       "[561 rows x 8 columns]"
      ]
     },
     "execution_count": 9,
     "metadata": {},
     "output_type": "execute_result"
    }
   ],
   "source": [
    "weather_data "
   ]
  },
  {
   "cell_type": "code",
   "execution_count": 10,
   "metadata": {},
   "outputs": [
    {
     "data": {
      "text/html": [
       "<div>\n",
       "<style scoped>\n",
       "    .dataframe tbody tr th:only-of-type {\n",
       "        vertical-align: middle;\n",
       "    }\n",
       "\n",
       "    .dataframe tbody tr th {\n",
       "        vertical-align: top;\n",
       "    }\n",
       "\n",
       "    .dataframe thead th {\n",
       "        text-align: right;\n",
       "    }\n",
       "</style>\n",
       "<table border=\"1\" class=\"dataframe\">\n",
       "  <thead>\n",
       "    <tr style=\"text-align: right;\">\n",
       "      <th></th>\n",
       "      <th>City</th>\n",
       "      <th>Lat</th>\n",
       "      <th>Lon</th>\n",
       "      <th>Wind Speed</th>\n",
       "      <th>Cloudiness</th>\n",
       "      <th>Humidity</th>\n",
       "      <th>Country</th>\n",
       "      <th>Temperature</th>\n",
       "    </tr>\n",
       "  </thead>\n",
       "  <tbody>\n",
       "    <tr>\n",
       "      <td>1</td>\n",
       "      <td>bam</td>\n",
       "      <td>29.11</td>\n",
       "      <td>58.36</td>\n",
       "      <td>7.31</td>\n",
       "      <td>100</td>\n",
       "      <td>25</td>\n",
       "      <td>IR</td>\n",
       "      <td>73.81</td>\n",
       "    </tr>\n",
       "    <tr>\n",
       "      <td>5</td>\n",
       "      <td>thompson</td>\n",
       "      <td>55.74</td>\n",
       "      <td>-97.86</td>\n",
       "      <td>12.75</td>\n",
       "      <td>90</td>\n",
       "      <td>78</td>\n",
       "      <td>CA</td>\n",
       "      <td>15.80</td>\n",
       "    </tr>\n",
       "    <tr>\n",
       "      <td>6</td>\n",
       "      <td>kaduqli</td>\n",
       "      <td>11.02</td>\n",
       "      <td>29.72</td>\n",
       "      <td>15.30</td>\n",
       "      <td>80</td>\n",
       "      <td>13</td>\n",
       "      <td>SD</td>\n",
       "      <td>80.20</td>\n",
       "    </tr>\n",
       "    <tr>\n",
       "      <td>7</td>\n",
       "      <td>saskylakh</td>\n",
       "      <td>71.92</td>\n",
       "      <td>114.08</td>\n",
       "      <td>7.52</td>\n",
       "      <td>0</td>\n",
       "      <td>91</td>\n",
       "      <td>RU</td>\n",
       "      <td>4.95</td>\n",
       "    </tr>\n",
       "    <tr>\n",
       "      <td>9</td>\n",
       "      <td>jamestown</td>\n",
       "      <td>42.10</td>\n",
       "      <td>-79.24</td>\n",
       "      <td>5.82</td>\n",
       "      <td>1</td>\n",
       "      <td>55</td>\n",
       "      <td>US</td>\n",
       "      <td>33.39</td>\n",
       "    </tr>\n",
       "    <tr>\n",
       "      <td>...</td>\n",
       "      <td>...</td>\n",
       "      <td>...</td>\n",
       "      <td>...</td>\n",
       "      <td>...</td>\n",
       "      <td>...</td>\n",
       "      <td>...</td>\n",
       "      <td>...</td>\n",
       "      <td>...</td>\n",
       "    </tr>\n",
       "    <tr>\n",
       "      <td>554</td>\n",
       "      <td>hornepayne</td>\n",
       "      <td>49.21</td>\n",
       "      <td>-84.77</td>\n",
       "      <td>7.34</td>\n",
       "      <td>13</td>\n",
       "      <td>91</td>\n",
       "      <td>CA</td>\n",
       "      <td>29.52</td>\n",
       "    </tr>\n",
       "    <tr>\n",
       "      <td>555</td>\n",
       "      <td>ugoofaaru</td>\n",
       "      <td>5.67</td>\n",
       "      <td>73.00</td>\n",
       "      <td>7.36</td>\n",
       "      <td>10</td>\n",
       "      <td>68</td>\n",
       "      <td>MV</td>\n",
       "      <td>85.46</td>\n",
       "    </tr>\n",
       "    <tr>\n",
       "      <td>556</td>\n",
       "      <td>teguldet</td>\n",
       "      <td>57.31</td>\n",
       "      <td>88.17</td>\n",
       "      <td>5.79</td>\n",
       "      <td>0</td>\n",
       "      <td>63</td>\n",
       "      <td>RU</td>\n",
       "      <td>42.01</td>\n",
       "    </tr>\n",
       "    <tr>\n",
       "      <td>557</td>\n",
       "      <td>haines junction</td>\n",
       "      <td>60.75</td>\n",
       "      <td>-137.51</td>\n",
       "      <td>2.66</td>\n",
       "      <td>0</td>\n",
       "      <td>72</td>\n",
       "      <td>CA</td>\n",
       "      <td>30.22</td>\n",
       "    </tr>\n",
       "    <tr>\n",
       "      <td>559</td>\n",
       "      <td>sembakung</td>\n",
       "      <td>3.82</td>\n",
       "      <td>117.25</td>\n",
       "      <td>1.59</td>\n",
       "      <td>43</td>\n",
       "      <td>74</td>\n",
       "      <td>ID</td>\n",
       "      <td>85.23</td>\n",
       "    </tr>\n",
       "  </tbody>\n",
       "</table>\n",
       "<p>393 rows × 8 columns</p>\n",
       "</div>"
      ],
      "text/plain": [
       "                City    Lat     Lon  Wind Speed  Cloudiness  Humidity Country  \\\n",
       "1                bam  29.11   58.36        7.31         100        25      IR   \n",
       "5           thompson  55.74  -97.86       12.75          90        78      CA   \n",
       "6            kaduqli  11.02   29.72       15.30          80        13      SD   \n",
       "7          saskylakh  71.92  114.08        7.52           0        91      RU   \n",
       "9          jamestown  42.10  -79.24        5.82           1        55      US   \n",
       "..               ...    ...     ...         ...         ...       ...     ...   \n",
       "554       hornepayne  49.21  -84.77        7.34          13        91      CA   \n",
       "555        ugoofaaru   5.67   73.00        7.36          10        68      MV   \n",
       "556         teguldet  57.31   88.17        5.79           0        63      RU   \n",
       "557  haines junction  60.75 -137.51        2.66           0        72      CA   \n",
       "559        sembakung   3.82  117.25        1.59          43        74      ID   \n",
       "\n",
       "     Temperature  \n",
       "1          73.81  \n",
       "5          15.80  \n",
       "6          80.20  \n",
       "7           4.95  \n",
       "9          33.39  \n",
       "..           ...  \n",
       "554        29.52  \n",
       "555        85.46  \n",
       "556        42.01  \n",
       "557        30.22  \n",
       "559        85.23  \n",
       "\n",
       "[393 rows x 8 columns]"
      ]
     },
     "execution_count": 10,
     "metadata": {},
     "output_type": "execute_result"
    }
   ],
   "source": [
    "northweather_data = weather_data.loc[(weather_data['Lat']>=0)]\n",
    "northweather_data"
   ]
  },
  {
   "cell_type": "code",
   "execution_count": 11,
   "metadata": {},
   "outputs": [
    {
     "data": {
      "text/html": [
       "<div>\n",
       "<style scoped>\n",
       "    .dataframe tbody tr th:only-of-type {\n",
       "        vertical-align: middle;\n",
       "    }\n",
       "\n",
       "    .dataframe tbody tr th {\n",
       "        vertical-align: top;\n",
       "    }\n",
       "\n",
       "    .dataframe thead th {\n",
       "        text-align: right;\n",
       "    }\n",
       "</style>\n",
       "<table border=\"1\" class=\"dataframe\">\n",
       "  <thead>\n",
       "    <tr style=\"text-align: right;\">\n",
       "      <th></th>\n",
       "      <th>City</th>\n",
       "      <th>Lat</th>\n",
       "      <th>Lon</th>\n",
       "      <th>Wind Speed</th>\n",
       "      <th>Cloudiness</th>\n",
       "      <th>Humidity</th>\n",
       "      <th>Country</th>\n",
       "      <th>Temperature</th>\n",
       "    </tr>\n",
       "  </thead>\n",
       "  <tbody>\n",
       "    <tr>\n",
       "      <td>0</td>\n",
       "      <td>puerto ayora</td>\n",
       "      <td>-0.74</td>\n",
       "      <td>-90.35</td>\n",
       "      <td>1.01</td>\n",
       "      <td>53</td>\n",
       "      <td>87</td>\n",
       "      <td>EC</td>\n",
       "      <td>79.00</td>\n",
       "    </tr>\n",
       "    <tr>\n",
       "      <td>2</td>\n",
       "      <td>busselton</td>\n",
       "      <td>-33.65</td>\n",
       "      <td>115.33</td>\n",
       "      <td>9.98</td>\n",
       "      <td>75</td>\n",
       "      <td>37</td>\n",
       "      <td>AU</td>\n",
       "      <td>78.48</td>\n",
       "    </tr>\n",
       "    <tr>\n",
       "      <td>3</td>\n",
       "      <td>castro</td>\n",
       "      <td>-24.79</td>\n",
       "      <td>-50.01</td>\n",
       "      <td>5.53</td>\n",
       "      <td>32</td>\n",
       "      <td>73</td>\n",
       "      <td>BR</td>\n",
       "      <td>55.18</td>\n",
       "    </tr>\n",
       "    <tr>\n",
       "      <td>4</td>\n",
       "      <td>rikitea</td>\n",
       "      <td>-23.12</td>\n",
       "      <td>-134.97</td>\n",
       "      <td>7.20</td>\n",
       "      <td>91</td>\n",
       "      <td>77</td>\n",
       "      <td>PF</td>\n",
       "      <td>78.55</td>\n",
       "    </tr>\n",
       "    <tr>\n",
       "      <td>8</td>\n",
       "      <td>sao felix do xingu</td>\n",
       "      <td>-6.64</td>\n",
       "      <td>-51.99</td>\n",
       "      <td>0.49</td>\n",
       "      <td>97</td>\n",
       "      <td>91</td>\n",
       "      <td>BR</td>\n",
       "      <td>74.01</td>\n",
       "    </tr>\n",
       "    <tr>\n",
       "      <td>...</td>\n",
       "      <td>...</td>\n",
       "      <td>...</td>\n",
       "      <td>...</td>\n",
       "      <td>...</td>\n",
       "      <td>...</td>\n",
       "      <td>...</td>\n",
       "      <td>...</td>\n",
       "      <td>...</td>\n",
       "    </tr>\n",
       "    <tr>\n",
       "      <td>543</td>\n",
       "      <td>bloemfontein</td>\n",
       "      <td>-29.12</td>\n",
       "      <td>26.21</td>\n",
       "      <td>3.36</td>\n",
       "      <td>0</td>\n",
       "      <td>93</td>\n",
       "      <td>ZA</td>\n",
       "      <td>57.20</td>\n",
       "    </tr>\n",
       "    <tr>\n",
       "      <td>546</td>\n",
       "      <td>boyolangu</td>\n",
       "      <td>-8.12</td>\n",
       "      <td>111.89</td>\n",
       "      <td>3.62</td>\n",
       "      <td>43</td>\n",
       "      <td>63</td>\n",
       "      <td>ID</td>\n",
       "      <td>84.70</td>\n",
       "    </tr>\n",
       "    <tr>\n",
       "      <td>548</td>\n",
       "      <td>luau</td>\n",
       "      <td>-10.71</td>\n",
       "      <td>22.22</td>\n",
       "      <td>3.89</td>\n",
       "      <td>72</td>\n",
       "      <td>71</td>\n",
       "      <td>AO</td>\n",
       "      <td>62.96</td>\n",
       "    </tr>\n",
       "    <tr>\n",
       "      <td>558</td>\n",
       "      <td>kaeo</td>\n",
       "      <td>-35.10</td>\n",
       "      <td>173.78</td>\n",
       "      <td>14.00</td>\n",
       "      <td>79</td>\n",
       "      <td>90</td>\n",
       "      <td>NZ</td>\n",
       "      <td>66.00</td>\n",
       "    </tr>\n",
       "    <tr>\n",
       "      <td>560</td>\n",
       "      <td>san luis</td>\n",
       "      <td>-33.30</td>\n",
       "      <td>-66.34</td>\n",
       "      <td>5.06</td>\n",
       "      <td>98</td>\n",
       "      <td>47</td>\n",
       "      <td>AR</td>\n",
       "      <td>63.72</td>\n",
       "    </tr>\n",
       "  </tbody>\n",
       "</table>\n",
       "<p>168 rows × 8 columns</p>\n",
       "</div>"
      ],
      "text/plain": [
       "                   City    Lat     Lon  Wind Speed  Cloudiness  Humidity  \\\n",
       "0          puerto ayora  -0.74  -90.35        1.01          53        87   \n",
       "2             busselton -33.65  115.33        9.98          75        37   \n",
       "3                castro -24.79  -50.01        5.53          32        73   \n",
       "4               rikitea -23.12 -134.97        7.20          91        77   \n",
       "8    sao felix do xingu  -6.64  -51.99        0.49          97        91   \n",
       "..                  ...    ...     ...         ...         ...       ...   \n",
       "543        bloemfontein -29.12   26.21        3.36           0        93   \n",
       "546           boyolangu  -8.12  111.89        3.62          43        63   \n",
       "548                luau -10.71   22.22        3.89          72        71   \n",
       "558                kaeo -35.10  173.78       14.00          79        90   \n",
       "560            san luis -33.30  -66.34        5.06          98        47   \n",
       "\n",
       "    Country  Temperature  \n",
       "0        EC        79.00  \n",
       "2        AU        78.48  \n",
       "3        BR        55.18  \n",
       "4        PF        78.55  \n",
       "8        BR        74.01  \n",
       "..      ...          ...  \n",
       "543      ZA        57.20  \n",
       "546      ID        84.70  \n",
       "548      AO        62.96  \n",
       "558      NZ        66.00  \n",
       "560      AR        63.72  \n",
       "\n",
       "[168 rows x 8 columns]"
      ]
     },
     "execution_count": 11,
     "metadata": {},
     "output_type": "execute_result"
    }
   ],
   "source": [
    "southweather_data = weather_data.loc[(weather_data['Lat']<0)]\n",
    "southweather_data"
   ]
  },
  {
   "cell_type": "markdown",
   "metadata": {},
   "source": [
    "####  Northern Hemisphere - Max Temp vs. Latitude Linear Regression"
   ]
  },
  {
   "cell_type": "code",
   "execution_count": 25,
   "metadata": {},
   "outputs": [
    {
     "name": "stdout",
     "output_type": "stream",
     "text": [
      "The r-squared is: 0.8426115332232673\n"
     ]
    },
    {
     "data": {
      "image/png": "[encoded data removed]",
      "text/plain": [
       "<Figure size 432x288 with 1 Axes>"
      ]
     },
     "metadata": {
      "needs_background": "light"
     },
     "output_type": "display_data"
    },
    {
     "data": {
      "text/plain": [
       "<Figure size 432x288 with 0 Axes>"
      ]
     },
     "metadata": {},
     "output_type": "display_data"
    }
   ],
   "source": [
    "x_values = northweather_data['Lat']\n",
    "y_values = northweather_data['Temperature']\n",
    "(slope, intercept, rvalue, pvalue, stderr) = linregress(x_values, y_values)\n",
    "regress_values = x_values * slope + intercept\n",
    "line_eq = \"y = \" + str(round(slope,2)) + \"x + \" + str(round(intercept,2))\n",
    "plt.scatter(x_values,y_values)\n",
    "plt.plot(x_values,regress_values,\"r-\")\n",
    "plt.annotate(line_eq,(0,50),fontsize=15,color=\"red\")\n",
    "plt.xlabel('Latitude')\n",
    "plt.ylabel('Maximum Temperature')\n",
    "print(f\"The r-squared is: {rvalue**2}\")\n",
    "plt.show()\n",
    "plt.savefig(\"../Instructions/output_data/nh_templatreg.png\")"
   ]
  },
  {
   "cell_type": "markdown",
   "metadata": {},
   "source": [
    "####  Southern Hemisphere - Max Temp vs. Latitude Linear Regression"
   ]
  },
  {
   "cell_type": "code",
   "execution_count": 24,
   "metadata": {},
   "outputs": [
    {
     "name": "stdout",
     "output_type": "stream",
     "text": [
      "The r-squared is: 0.3633476096157586\n"
     ]
    },
    {
     "data": {
      "image/png": "[encoded data removed]",
      "text/plain": [
       "<Figure size 432x288 with 1 Axes>"
      ]
     },
     "metadata": {
      "needs_background": "light"
     },
     "output_type": "display_data"
    },
    {
     "data": {
      "text/plain": [
       "<Figure size 432x288 with 0 Axes>"
      ]
     },
     "metadata": {},
     "output_type": "display_data"
    }
   ],
   "source": [
    "x_values = southweather_data['Lat']\n",
    "y_values = southweather_data['Temperature']\n",
    "(slope, intercept, rvalue, pvalue, stderr) = linregress(x_values, y_values)\n",
    "regress_values = x_values * slope + intercept\n",
    "line_eq = \"y = \" + str(round(slope,2)) + \"x + \" + str(round(intercept,2))\n",
    "plt.scatter(x_values,y_values)\n",
    "plt.plot(x_values,regress_values,\"r-\")\n",
    "plt.annotate(line_eq,(-50,90),fontsize=15,color=\"red\")\n",
    "plt.xlabel('Latitude')\n",
    "plt.ylabel('Maximum Temperature')\n",
    "print(f\"The r-squared is: {rvalue**2}\")\n",
    "plt.show()\n",
    "plt.savefig(\"../Instructions/output_data/sh_templatreg.png\")"
   ]
  },
  {
   "cell_type": "markdown",
   "metadata": {},
   "source": [
    "####  Northern Hemisphere - Humidity (%) vs. Latitude Linear Regression"
   ]
  },
  {
   "cell_type": "code",
   "execution_count": 23,
   "metadata": {},
   "outputs": [
    {
     "name": "stdout",
     "output_type": "stream",
     "text": [
      "The r-squared is: 0.09433317105674838\n"
     ]
    },
    {
     "data": {
      "image/png": "[encoded data removed]",
      "text/plain": [
       "<Figure size 432x288 with 1 Axes>"
      ]
     },
     "metadata": {
      "needs_background": "light"
     },
     "output_type": "display_data"
    },
    {
     "data": {
      "text/plain": [
       "<Figure size 432x288 with 0 Axes>"
      ]
     },
     "metadata": {},
     "output_type": "display_data"
    }
   ],
   "source": [
    "x_values = northweather_data['Lat']\n",
    "y_values = northweather_data['Humidity']\n",
    "(slope, intercept, rvalue, pvalue, stderr) = linregress(x_values, y_values)\n",
    "regress_values = x_values * slope + intercept\n",
    "line_eq = \"y = \" + str(round(slope,2)) + \"x + \" + str(round(intercept,2))\n",
    "plt.scatter(x_values,y_values)\n",
    "plt.plot(x_values,regress_values,\"r-\")\n",
    "plt.annotate(line_eq,(0,50),fontsize=15,color=\"red\")\n",
    "plt.xlabel('Latitude')\n",
    "plt.ylabel('Humidity')\n",
    "print(f\"The r-squared is: {rvalue**2}\")\n",
    "plt.show()\n",
    "plt.savefig(\"../Instructions/output_data/nh_humidlatreg.png\")"
   ]
  },
  {
   "cell_type": "markdown",
   "metadata": {},
   "source": [
    "####  Southern Hemisphere - Humidity (%) vs. Latitude Linear Regression"
   ]
  },
  {
   "cell_type": "code",
   "execution_count": 21,
   "metadata": {},
   "outputs": [
    {
     "name": "stdout",
     "output_type": "stream",
     "text": [
      "The r-squared is: 0.0882458179269095\n"
     ]
    },
    {
     "data": {
      "image/png": "[encoded data removed]",
      "text/plain": [
       "<Figure size 432x288 with 1 Axes>"
      ]
     },
     "metadata": {
      "needs_background": "light"
     },
     "output_type": "display_data"
    },
    {
     "data": {
      "text/plain": [
       "<Figure size 432x288 with 0 Axes>"
      ]
     },
     "metadata": {},
     "output_type": "display_data"
    }
   ],
   "source": [
    "x_values = southweather_data['Lat']\n",
    "y_values = southweather_data['Humidity']\n",
    "(slope, intercept, rvalue, pvalue, stderr) = linregress(x_values, y_values)\n",
    "regress_values = x_values * slope + intercept\n",
    "line_eq = \"y = \" + str(round(slope,2)) + \"x + \" + str(round(intercept,2))\n",
    "plt.scatter(x_values,y_values)\n",
    "plt.plot(x_values,regress_values,\"r-\")\n",
    "plt.annotate(line_eq,(0,50),fontsize=15,color=\"red\")\n",
    "plt.xlabel('Latitude')\n",
    "plt.ylabel('Humidity')\n",
    "print(f\"The r-squared is: {rvalue**2}\")\n",
    "plt.show()\n",
    "plt.savefig(\"../Instructions/output_data/sh_humidlatreg.png\")"
   ]
  },
  {
   "cell_type": "markdown",
   "metadata": {},
   "source": [
    "####  Northern Hemisphere - Cloudiness (%) vs. Latitude Linear Regression"
   ]
  },
  {
   "cell_type": "code",
   "execution_count": 26,
   "metadata": {},
   "outputs": [
    {
     "name": "stdout",
     "output_type": "stream",
     "text": [
      "The r-squared is: 0.04863179014001371\n"
     ]
    },
    {
     "data": {
      "image/png": "[encoded data removed]",
      "text/plain": [
       "<Figure size 432x288 with 1 Axes>"
      ]
     },
     "metadata": {
      "needs_background": "light"
     },
     "output_type": "display_data"
    },
    {
     "data": {
      "text/plain": [
       "<Figure size 432x288 with 0 Axes>"
      ]
     },
     "metadata": {},
     "output_type": "display_data"
    }
   ],
   "source": [
    "x_values = northweather_data['Lat']\n",
    "y_values = northweather_data['Cloudiness']\n",
    "(slope, intercept, rvalue, pvalue, stderr) = linregress(x_values, y_values)\n",
    "regress_values = x_values * slope + intercept\n",
    "line_eq = \"y = \" + str(round(slope,2)) + \"x + \" + str(round(intercept,2))\n",
    "plt.scatter(x_values,y_values)\n",
    "plt.plot(x_values,regress_values,\"r-\")\n",
    "plt.annotate(line_eq,(0,50),fontsize=15,color=\"red\")\n",
    "plt.xlabel('Latitude')\n",
    "plt.ylabel('Cloudiness')\n",
    "print(f\"The r-squared is: {rvalue**2}\")\n",
    "plt.show()\n",
    "plt.savefig(\"../Instructions/output_data/nh_cloudlatreg.png\")"
   ]
  },
  {
   "cell_type": "markdown",
   "metadata": {},
   "source": [
    "####  Southern Hemisphere - Cloudiness (%) vs. Latitude Linear Regression"
   ]
  },
  {
   "cell_type": "code",
   "execution_count": 27,
   "metadata": {},
   "outputs": [
    {
     "name": "stdout",
     "output_type": "stream",
     "text": [
      "The r-squared is: 0.03513570368991974\n"
     ]
    },
    {
     "data": {
      "image/png": "[encoded data removed]",
      "text/plain": [
       "<Figure size 432x288 with 1 Axes>"
      ]
     },
     "metadata": {
      "needs_background": "light"
     },
     "output_type": "display_data"
    },
    {
     "data": {
      "text/plain": [
       "<Figure size 432x288 with 0 Axes>"
      ]
     },
     "metadata": {},
     "output_type": "display_data"
    }
   ],
   "source": [
    "x_values = southweather_data['Lat']\n",
    "y_values = southweather_data['Cloudiness']\n",
    "(slope, intercept, rvalue, pvalue, stderr) = linregress(x_values, y_values)\n",
    "regress_values = x_values * slope + intercept\n",
    "line_eq = \"y = \" + str(round(slope,2)) + \"x + \" + str(round(intercept,2))\n",
    "plt.scatter(x_values,y_values)\n",
    "plt.plot(x_values,regress_values,\"r-\")\n",
    "plt.annotate(line_eq,(0,50),fontsize=15,color=\"red\")\n",
    "plt.xlabel('Latitude')\n",
    "plt.ylabel('Cloudiness')\n",
    "print(f\"The r-squared is: {rvalue**2}\")\n",
    "plt.show()\n",
    "plt.savefig(\"../Instructions/output_data/sh_cloudlatreg.png\")"
   ]
  },
  {
   "cell_type": "markdown",
   "metadata": {},
   "source": [
    "####  Northern Hemisphere - Wind Speed (mph) vs. Latitude Linear Regression"
   ]
  },
  {
   "cell_type": "code",
   "execution_count": 28,
   "metadata": {},
   "outputs": [
    {
     "name": "stdout",
     "output_type": "stream",
     "text": [
      "The r-squared is: 0.03774560606600811\n"
     ]
    },
    {
     "data": {
      "image/png": "[encoded data removed]",
      "text/plain": [
       "<Figure size 432x288 with 1 Axes>"
      ]
     },
     "metadata": {
      "needs_background": "light"
     },
     "output_type": "display_data"
    },
    {
     "data": {
      "text/plain": [
       "<Figure size 432x288 with 0 Axes>"
      ]
     },
     "metadata": {},
     "output_type": "display_data"
    }
   ],
   "source": [
    "x_values = northweather_data['Lat']\n",
    "y_values = northweather_data['Wind Speed']\n",
    "(slope, intercept, rvalue, pvalue, stderr) = linregress(x_values, y_values)\n",
    "regress_values = x_values * slope + intercept\n",
    "line_eq = \"y = \" + str(round(slope,2)) + \"x + \" + str(round(intercept,2))\n",
    "plt.scatter(x_values,y_values)\n",
    "plt.plot(x_values,regress_values,\"r-\")\n",
    "plt.annotate(line_eq,(0,50),fontsize=15,color=\"red\")\n",
    "plt.xlabel('Latitude')\n",
    "plt.ylabel('Wind Speed')\n",
    "print(f\"The r-squared is: {rvalue**2}\")\n",
    "plt.show()\n",
    "plt.savefig(\"../Instructions/output_data/nh_windlatreg.png\")"
   ]
  },
  {
   "cell_type": "markdown",
   "metadata": {},
   "source": [
    "####  Southern Hemisphere - Wind Speed (mph) vs. Latitude Linear Regression"
   ]
  },
  {
   "cell_type": "code",
   "execution_count": 29,
   "metadata": {},
   "outputs": [
    {
     "name": "stdout",
     "output_type": "stream",
     "text": [
      "The r-squared is: 0.10846151906238521\n"
     ]
    },
    {
     "data": {
      "image/png": "[encoded data removed]",
      "text/plain": [
       "<Figure size 432x288 with 1 Axes>"
      ]
     },
     "metadata": {
      "needs_background": "light"
     },
     "output_type": "display_data"
    },
    {
     "data": {
      "text/plain": [
       "<Figure size 432x288 with 0 Axes>"
      ]
     },
     "metadata": {},
     "output_type": "display_data"
    }
   ],
   "source": [
    "x_values = southweather_data['Lat']\n",
    "y_values = southweather_data['Wind Speed']\n",
    "(slope, intercept, rvalue, pvalue, stderr) = linregress(x_values, y_values)\n",
    "regress_values = x_values * slope + intercept\n",
    "line_eq = \"y = \" + str(round(slope,2)) + \"x + \" + str(round(intercept,2))\n",
    "plt.scatter(x_values,y_values)\n",
    "plt.plot(x_values,regress_values,\"r-\")\n",
    "plt.annotate(line_eq,(0,50),fontsize=15,color=\"red\")\n",
    "plt.xlabel('Latitude')\n",
    "plt.ylabel('Wind Speed')\n",
    "print(f\"The r-squared is: {rvalue**2}\")\n",
    "plt.show()\n",
    "plt.savefig(\"../Instructions/output_data/sh_windlatreg.png\")"
   ]
  },
  {
   "cell_type": "code",
   "execution_count": 22,
   "metadata": {},
   "outputs": [],
   "source": [
    "weather_data.to_csv(\"cities.csv\",index = False)"
   ]
  },
  {
   "cell_type": "code",
   "execution_count": null,
   "metadata": {},
   "outputs": [],
   "source": []
  }
 ],
 "metadata": {
  "anaconda-cloud": {},
  "kernel_info": {
   "name": "python3"
  },
  "kernelspec": {
   "display_name": "Python 3",
   "language": "python",
   "name": "python3"
  },
  "language_info": {
   "codemirror_mode": {
    "name": "ipython",
    "version": 3
   },
   "file_extension": ".py",
   "mimetype": "text/x-python",
   "name": "python",
   "nbconvert_exporter": "python",
   "pygments_lexer": "ipython3",
   "version": "3.7.4"
  },
  "latex_envs": {
   "LaTeX_envs_menu_present": true,
   "autoclose": false,
   "autocomplete": true,
   "bibliofile": "biblio.bib",
   "cite_by": "apalike",
   "current_citInitial": 1,
   "eqLabelWithNumbers": true,
   "eqNumInitial": 1,
   "hotkeys": {
    "equation": "Ctrl-E",
    "itemize": "Ctrl-I"
   },
   "labels_anchors": false,
   "latex_user_defs": false,
   "report_style_numbering": false,
   "user_envs_cfg": false
  },
  "nteract": {
   "version": "0.12.3"
  }
 },
 "nbformat": 4,
 "nbformat_minor": 2
}
